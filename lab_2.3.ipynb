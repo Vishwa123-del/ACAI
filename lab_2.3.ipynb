{
  "nbformat": 4,
  "nbformat_minor": 0,
  "metadata": {
    "colab": {
      "provenance": [],
      "authorship_tag": "ABX9TyP7/d9NV9qT1FY8LckW8HC0",
      "include_colab_link": true
    },
    "kernelspec": {
      "name": "python3",
      "display_name": "Python 3"
    },
    "language_info": {
      "name": "python"
    }
  },
  "cells": [
    {
      "cell_type": "markdown",
      "metadata": {
        "id": "view-in-github",
        "colab_type": "text"
      },
      "source": [
        "<a href=\"https://colab.research.google.com/github/Vishwa123-del/ACAI/blob/main/lab_2.3.ipynb\" target=\"_parent\"><img src=\"https://colab.research.google.com/assets/colab-badge.svg\" alt=\"Open In Colab\"/></a>"
      ]
    },
    {
      "cell_type": "code",
      "execution_count": null,
      "metadata": {
        "id": "BH0oM0zLQsSx"
      },
      "outputs": [],
      "source": []
    },
    {
      "cell_type": "markdown",
      "source": [
        "Task Description#1\n",
        "● Use Google Gemini in Colab to write a function that reads a CSV file and calculates\n",
        "mean, min, max.\n",
        "Expected Output#1\n",
        "● Functional code with output and screenshot"
      ],
      "metadata": {
        "id": "CiQxcedVRyRm"
      }
    },
    {
      "cell_type": "code",
      "metadata": {
        "colab": {
          "base_uri": "https://localhost:8080/"
        },
        "id": "ce7d4b86",
        "outputId": "85643825-e21b-4a0f-bf27-50fbe79e13c3"
      },
      "source": [
        "# Example usage with your file\n",
        "file_path = '/content/task1.csv'\n",
        "analysis_results = analyze_csv(file_path)\n",
        "\n",
        "if analysis_results:\n",
        "    for col, stats in analysis_results.items():\n",
        "        print(f\"Column: {col}\")\n",
        "        print(f\"  Mean: {stats['mean']:.2f}\")\n",
        "        print(f\"  Min: {stats['min']:.2f}\")\n",
        "        print(f\"  Max: {stats['max']:.2f}\")\n",
        "        print(\"-\" * 20)"
      ],
      "execution_count": null,
      "outputs": [
        {
          "output_type": "stream",
          "name": "stdout",
          "text": [
            "Column: marks\n",
            "  Mean: 17.00\n",
            "  Min: 10.00\n",
            "  Max: 24.00\n",
            "--------------------\n"
          ]
        }
      ]
    },
    {
      "cell_type": "code",
      "source": [],
      "metadata": {
        "id": "Kt_wqo9kVW1-"
      },
      "execution_count": null,
      "outputs": []
    },
    {
      "cell_type": "markdown",
      "source": [
        " Description#2\n",
        "● Compare Gemini and Copilot outputs for a palindrome check function.\n",
        "Expected Output#2\n",
        "● Side-by-side comparison and observations"
      ],
      "metadata": {
        "id": "qZ6F535jVFJj"
      }
    },
    {
      "cell_type": "code",
      "metadata": {
        "colab": {
          "base_uri": "https://localhost:8080/"
        },
        "id": "aee236d2",
        "outputId": "99584dc1-c6f7-4c7c-dfb1-01217ecc3638"
      },
      "source": [
        "def is_palindrome(number):\n",
        "  \"\"\"\n",
        "  Checks if a given number is a palindrome.\n",
        "\n",
        "  Args:\n",
        "    number: The number to check.\n",
        "\n",
        "  Returns:\n",
        "    True if the number is a palindrome, False otherwise.\n",
        "  \"\"\"\n",
        "  # Convert the number to a string\n",
        "  num_str = str(number)\n",
        "  # Reverse the string\n",
        "  reversed_num_str = num_str[::-1]\n",
        "  # Check if the original string is equal to the reversed string\n",
        "  return num_str == reversed_num_str\n",
        "\n",
        "# Example usage:\n",
        "num1 = 121\n",
        "num2 = 123\n",
        "num3 = 12321\n",
        "\n",
        "print(f\"{num1} is a palindrome: {is_palindrome(num1)}\")\n",
        "print(f\"{num2} is a palindrome: {is_palindrome(num2)}\")\n",
        "print(f\"{num3} is a palindrome: {is_palindrome(num3)}\")"
      ],
      "execution_count": null,
      "outputs": [
        {
          "output_type": "stream",
          "name": "stdout",
          "text": [
            "121 is a palindrome: True\n",
            "123 is a palindrome: False\n",
            "12321 is a palindrome: True\n"
          ]
        }
      ]
    },
    {
      "cell_type": "markdown",
      "source": [
        "Task Description#3\n",
        "● Ask Gemini to explain a Python function (to calculate area of various shapes) line by\n",
        "line..\n",
        "Expected Output#3\n",
        "● Detailed explanation with code snippet"
      ],
      "metadata": {
        "id": "HgJCYDbVWoAU"
      }
    },
    {
      "cell_type": "code",
      "metadata": {
        "colab": {
          "base_uri": "https://localhost:8080/"
        },
        "id": "93866c15",
        "outputId": "1060c484-d2bb-4e97-86cf-56337451fbeb"
      },
      "source": [
        "import math\n",
        "\n",
        "def calculate_area(shape, **kwargs):\n",
        "    \"\"\"\n",
        "    Calculates the area of various shapes.\n",
        "\n",
        "    Args:\n",
        "        shape (str): The name of the shape (e.g., 'square', 'rectangle', 'circle').\n",
        "        **kwargs: Keyword arguments for the shape's dimensions.\n",
        "\n",
        "    Returns:\n",
        "        float: The area of the shape, or None if the shape is not supported\n",
        "               or required dimensions are missing.\n",
        "    \"\"\"\n",
        "    if shape.lower() == 'square':\n",
        "        side = kwargs.get('side')\n",
        "        if side is not None:\n",
        "            return side * side\n",
        "        else:\n",
        "            print(\"Error: Side length is required for a square.\")\n",
        "            return None\n",
        "    elif shape.lower() == 'rectangle':\n",
        "        length = kwargs.get('length')\n",
        "        width = kwargs.get('width')\n",
        "        if length is not None and width is not None:\n",
        "            return length * width\n",
        "        else:\n",
        "            print(\"Error: Length and width are required for a rectangle.\")\n",
        "            return None\n",
        "    elif shape.lower() == 'circle':\n",
        "        radius = kwargs.get('radius')\n",
        "        if radius is not None:\n",
        "            return math.pi * radius**2\n",
        "        else:\n",
        "            print(\"Error: Radius is required for a circle.\")\n",
        "            return None\n",
        "    else:\n",
        "        print(f\"Error: Shape '{shape}' is not supported.\")\n",
        "        return None\n",
        "\n",
        "# Example usage:\n",
        "print(f\"Area of square with side 5: {calculate_area('square', side=5)}\")\n",
        "print(f\"Area of rectangle with length 4 and width 6: {calculate_area('rectangle', length=4, width=6)}\")\n",
        "print(f\"Area of circle with radius 3: {calculate_area('circle', radius=3)}\")\n",
        "print(f\"Area of triangle with base 4 and height 5: {calculate_area('triangle', base=4, height=5)}\") # Example of unsupported shape"
      ],
      "execution_count": null,
      "outputs": [
        {
          "output_type": "stream",
          "name": "stdout",
          "text": [
            "Area of square with side 5: 25\n",
            "Area of rectangle with length 4 and width 6: 24\n",
            "Area of circle with radius 3: 28.274333882308138\n",
            "Error: Shape 'triangle' is not supported.\n",
            "Area of triangle with base 4 and height 5: None\n"
          ]
        }
      ]
    },
    {
      "cell_type": "markdown",
      "source": [
        "Task Description#5\n",
        "● Student need to write code to calculate sum of add number and even numbers in the\n",
        "list\n",
        "Expected Output#5\n",
        "● Refactored code written by student with improved logic"
      ],
      "metadata": {
        "id": "rXeMsiVyW5FD"
      }
    },
    {
      "cell_type": "code",
      "source": [],
      "metadata": {
        "id": "I8x0pHxyXDy0"
      },
      "execution_count": null,
      "outputs": []
    },
    {
      "cell_type": "code",
      "metadata": {
        "colab": {
          "base_uri": "https://localhost:8080/"
        },
        "id": "af465d28",
        "outputId": "d9a4e677-1276-4cea-ff93-0ee0ce309676"
      },
      "source": [
        "def sum_odd_even(numbers):\n",
        "  \"\"\"\n",
        "  Calculates the sum of odd and even numbers in a list.\n",
        "\n",
        "  Args:\n",
        "    numbers: A list of numbers.\n",
        "\n",
        "  Returns:\n",
        "    A tuple containing the sum of odd numbers and the sum of even numbers.\n",
        "  \"\"\"\n",
        "  odd_sum = 0\n",
        "  even_sum = 0\n",
        "  for number in numbers:\n",
        "    if number % 2 == 0:\n",
        "      even_sum += number\n",
        "    else:\n",
        "      odd_sum += number\n",
        "  return odd_sum, even_sum\n",
        "\n",
        "# Example usage:\n",
        "my_list = [1, 2, 3, 4, 5, 6, 7, 8, 9, 10]\n",
        "odd_sum, even_sum = sum_odd_even(my_list)\n",
        "\n",
        "print(f\"List: {my_list}\")\n",
        "print(f\"Sum of odd numbers: {odd_sum}\")\n",
        "print(f\"Sum of even numbers: {even_sum}\")"
      ],
      "execution_count": null,
      "outputs": [
        {
          "output_type": "stream",
          "name": "stdout",
          "text": [
            "List: [1, 2, 3, 4, 5, 6, 7, 8, 9, 10]\n",
            "Sum of odd numbers: 25\n",
            "Sum of even numbers: 30\n"
          ]
        }
      ]
    }
  ]
}