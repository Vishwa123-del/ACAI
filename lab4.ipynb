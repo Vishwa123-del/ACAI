{
  "nbformat": 4,
  "nbformat_minor": 0,
  "metadata": {
    "colab": {
      "provenance": [],
      "authorship_tag": "ABX9TyO50hibyVQ4/lPcQrZCZcVC",
      "include_colab_link": true
    },
    "kernelspec": {
      "name": "python3",
      "display_name": "Python 3"
    },
    "language_info": {
      "name": "python"
    }
  },
  "cells": [
    {
      "cell_type": "markdown",
      "metadata": {
        "id": "view-in-github",
        "colab_type": "text"
      },
      "source": [
        "<a href=\"https://colab.research.google.com/github/Vishwa123-del/ACAI/blob/main/lab4_3.ipynb\" target=\"_parent\"><img src=\"https://colab.research.google.com/assets/colab-badge.svg\" alt=\"Open In Colab\"/></a>"
      ]
    },
    {
      "cell_type": "markdown",
      "source": [
        "Task Description#1\n",
        "●\tZero-shot: Prompt AI to write a function that checks whether a given year is a leap year.\n",
        "Expected Output#1\n",
        "●\tAI-generated function with no examples provided\n"
      ],
      "metadata": {
        "id": "SQ4UlKmQfWSc"
      }
    },
    {
      "cell_type": "code",
      "execution_count": 1,
      "metadata": {
        "colab": {
          "base_uri": "https://localhost:8080/"
        },
        "id": "0CBhE0c6fLDK",
        "outputId": "5ba9caac-d637-47b9-87b5-7e4d8d548d45"
      },
      "outputs": [
        {
          "output_type": "stream",
          "name": "stdout",
          "text": [
            "Enter a year to check if it's a leap year: 2024\n",
            "2024 is a leap year.\n"
          ]
        }
      ],
      "source": [
        "def is_leap_year(year):\n",
        "  \"\"\"Checks if a given year is a leap year.\"\"\"\n",
        "  return (year % 4 == 0 and year % 100 != 0) or (year % 400 == 0)\n",
        "\n",
        "# Get year input from user\n",
        "try:\n",
        "    year_to_check = int(input(\"Enter a year to check if it's a leap year: \"))\n",
        "    if is_leap_year(year_to_check):\n",
        "      print(f\"{year_to_check} is a leap year.\")\n",
        "    else:\n",
        "      print(f\"{year_to_check} is not a leap year.\")\n",
        "except ValueError:\n",
        "    print(\"Invalid input. Please enter a valid year (a whole number).\")"
      ]
    },
    {
      "cell_type": "markdown",
      "source": [
        "Task Description#2\n",
        "●\tOne-shot: Give one input-output example to guide AI in writing a function that converts centimeters to inches.\n",
        "Expected Output#2\n",
        "●\tFunction with correct conversion logic\n"
      ],
      "metadata": {
        "id": "ERn5DbObfwOE"
      }
    },
    {
      "cell_type": "code",
      "source": [
        "def cm_to_inches(cm):\n",
        "  \"\"\"Converts centimeters to inches.\"\"\"\n",
        "  # Example: 10 cm = 3.93701 inches\n",
        "  return cm * 0.393701\n",
        "\n",
        "# Example usage with the given input\n",
        "centimeters = 10\n",
        "inches = cm_to_inches(centimeters)\n",
        "print(f\"{centimeters} centimeters is equal to {inches} inches.\")"
      ],
      "metadata": {
        "colab": {
          "base_uri": "https://localhost:8080/"
        },
        "id": "FgVseyTof2aJ",
        "outputId": "21358296-95c3-4bd2-dd12-a10a3ef7da76"
      },
      "execution_count": 2,
      "outputs": [
        {
          "output_type": "stream",
          "name": "stdout",
          "text": [
            "10 centimeters is equal to 3.9370100000000003 inches.\n"
          ]
        }
      ]
    },
    {
      "cell_type": "markdown",
      "source": [
        "Task Description#3\n",
        "●\tFew-shot: Provide 2–3 examples to generate a function that formats full names“Last, First”.\n",
        "Expected Output#3\n",
        "●\tWell-structured function respecting the examples\n"
      ],
      "metadata": {
        "id": "0UZZhvDsgCDk"
      }
    },
    {
      "cell_type": "code",
      "source": [
        "def format_name(full_name):\n",
        "  \"\"\"Formats a full name as 'Last, First'.\"\"\"\n",
        "  # Examples:\n",
        "  # \"John Doe\" -> \"Doe, John\"\n",
        "  # \"Alice Wonderland\" -> \"Wonderland, Alice\"\n",
        "  # \"Peter Pan\" -> \"Pan, Peter\"\n",
        "  parts = full_name.split()\n",
        "  if len(parts) >= 2:\n",
        "    return f\"{parts[-1]}, {' '.join(parts[:-1])}\"\n",
        "  else:\n",
        "    return full_name # Return as is if not enough parts\n",
        "\n",
        "# Get name input from user\n",
        "name_to_format = input(\"Enter a full name to format (e.g., John Doe): \")\n",
        "formatted_name = format_name(name_to_format)\n",
        "print(f\"Formatted name: {formatted_name}\")"
      ],
      "metadata": {
        "colab": {
          "base_uri": "https://localhost:8080/"
        },
        "id": "MbTD0Z_tgIp7",
        "outputId": "c2518bde-8e4b-498f-aa17-8b74153f6c57"
      },
      "execution_count": 4,
      "outputs": [
        {
          "output_type": "stream",
          "name": "stdout",
          "text": [
            "Enter a full name to format (e.g., John Doe): john doe\n",
            "Formatted name: doe, john\n"
          ]
        }
      ]
    },
    {
      "cell_type": "markdown",
      "source": [
        "Task Description#4\n",
        "●\tCompare zero-shot and few-shot prompts for writing a function that counts the number of vowels in a string.\n",
        "Expected Output#4\n",
        "●\tFunctional output and comparative reflection.\n",
        "#                      4.1"
      ],
      "metadata": {
        "id": "U8twcV3IgvJr"
      }
    },
    {
      "cell_type": "code",
      "source": [
        "def count_vowels(text):\n",
        "  \"\"\"Counts the number of vowels in a string.\"\"\"\n",
        "  vowels = \"aeiouAEIOU\"\n",
        "  vowel_count = 0\n",
        "  for char in text:\n",
        "    if char in vowels:\n",
        "      vowel_count += 1\n",
        "  return vowel_count\n",
        "\n",
        "# Get string input from user\n",
        "input_string = input(\"Enter a string to count the vowels: \")\n",
        "num_vowels = count_vowels(input_string)\n",
        "print(f\"The number of vowels in '{input_string}' is: {num_vowels}\")"
      ],
      "metadata": {
        "colab": {
          "base_uri": "https://localhost:8080/"
        },
        "id": "1dskzg1Vg9X-",
        "outputId": "23dbb6f6-ac0c-4dd6-ea45-2faeb339153f"
      },
      "execution_count": 5,
      "outputs": [
        {
          "output_type": "stream",
          "name": "stdout",
          "text": [
            "Enter a string to count the vowels: vishwa\n",
            "The number of vowels in 'vishwa' is: 2\n"
          ]
        }
      ]
    },
    {
      "cell_type": "markdown",
      "source": [
        "# *4.2*"
      ],
      "metadata": {
        "id": "2ZA9ute4hNup"
      }
    },
    {
      "cell_type": "code",
      "source": [],
      "metadata": {
        "id": "TdZzCYO-hhQw"
      },
      "execution_count": null,
      "outputs": []
    },
    {
      "cell_type": "markdown",
      "source": [],
      "metadata": {
        "id": "SBYPb6mihVr9"
      }
    },
    {
      "cell_type": "code",
      "metadata": {
        "colab": {
          "base_uri": "https://localhost:8080/"
        },
        "id": "b582441d",
        "outputId": "77cc1198-4d11-4ddc-9a60-eb8216a9a058"
      },
      "source": [
        "def count_vowels(input_string):\n",
        "  \"\"\"Counts the number of vowels in a given string.\"\"\"\n",
        "  vowels = \"aeiouAEIOU\"\n",
        "  vowel_count = 0\n",
        "  for char in input_string:\n",
        "    if char in vowels:\n",
        "      vowel_count += 1\n",
        "  return vowel_count\n",
        "\n",
        "# Example usage:\n",
        "text = \"Hello World\"\n",
        "num_vowels = count_vowels(text)\n",
        "print(f\"The number of vowels in '{text}' is: {num_vowels}\")"
      ],
      "execution_count": 6,
      "outputs": [
        {
          "output_type": "stream",
          "name": "stdout",
          "text": [
            "The number of vowels in 'Hello World' is: 3\n"
          ]
        }
      ]
    },
    {
      "cell_type": "markdown",
      "source": [
        "Task Description#5\n",
        "●\tUse few-shot prompting to generate a function that reads a .txt file and returns the number of lines.\n",
        "Expected Output#5\n",
        "●\tWorking file-processing function with AI-guided logic\n"
      ],
      "metadata": {
        "id": "nUehRGJlh_7h"
      }
    },
    {
      "cell_type": "code",
      "source": [],
      "metadata": {
        "id": "kGMnnk3biGVX"
      },
      "execution_count": null,
      "outputs": []
    },
    {
      "cell_type": "code",
      "metadata": {
        "colab": {
          "base_uri": "https://localhost:8080/"
        },
        "id": "d0c764eb",
        "outputId": "d590d907-b658-401c-eabf-ec27180f4468"
      },
      "source": [
        "def read_txt_file(file_path):\n",
        "  \"\"\"Reads a text file and returns its content and line count.\"\"\"\n",
        "  try:\n",
        "    with open(file_path, 'r') as f:\n",
        "      lines = f.readlines()\n",
        "      content = \"\".join(lines)\n",
        "      line_count = len(lines)\n",
        "    return content, line_count\n",
        "  except FileNotFoundError:\n",
        "    print(f\"Error: File not found at {file_path}\")\n",
        "    return None, None\n",
        "  except Exception as e:\n",
        "    print(f\"An error occurred: {e}\")\n",
        "    return None, None\n",
        "\n",
        "# Get file path from user\n",
        "file_name = input(\"Enter the path to the .txt file: \")\n",
        "file_content, line_count = read_txt_file(file_name)\n",
        "\n",
        "if file_content is not None:\n",
        "  print(\"\\nFile Content:\")\n",
        "  print(file_content)\n",
        "  print(f\"\\nNumber of lines: {line_count}\")"
      ],
      "execution_count": 8,
      "outputs": [
        {
          "output_type": "stream",
          "name": "stdout",
          "text": [
            "Enter the path to the .txt file: lab4.3.txt\n",
            "\n",
            "File Content:\n",
            "Prabhas is a popular Indian actor, primarily in Telugu cinema, who gained global recognition starring as the titular hero in the epic Baahubali film series. Born in 1979, he debuted in 2002 and became famous with films like Varsham and Mirchi. His uncle is the veteran actor Krishnam Raju, and his father was a film producer. Prabhas's dedication to his craft is notable, having gone years without signing other films for Baahubali.\n",
            "\n",
            "\n",
            "\n",
            "Number of lines: 2\n"
          ]
        }
      ]
    }
  ]
}
